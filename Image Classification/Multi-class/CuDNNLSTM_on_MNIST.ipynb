{
  "nbformat": 4,
  "nbformat_minor": 0,
  "metadata": {
    "colab": {
      "name": "CuDNNLSTM on MNIST.ipynb",
      "provenance": [],
      "collapsed_sections": []
    },
    "kernelspec": {
      "name": "python3",
      "display_name": "Python 3"
    },
    "accelerator": "GPU"
  },
  "cells": [
    {
      "cell_type": "code",
      "metadata": {
        "id": "5Mgs8k7bzp-F",
        "colab_type": "code",
        "colab": {}
      },
      "source": [
        "import numpy as np\n",
        "import tensorflow.keras.optimizers\n",
        "import tensorflow.keras.losses\n",
        "from tensorflow.keras.models import Sequential\n",
        "from tensorflow.keras.layers import Dense, Flatten, MaxPooling2D, Activation, Dropout\n",
        "from tensorflow.compat.v1.keras.layers import CuDNNLSTM"
      ],
      "execution_count": null,
      "outputs": []
    },
    {
      "cell_type": "markdown",
      "metadata": {
        "id": "kTTCFoE0cTN3",
        "colab_type": "text"
      },
      "source": [
        "***Loading the MNIST dataset from keras***"
      ]
    },
    {
      "cell_type": "code",
      "metadata": {
        "id": "kZEI6NxV4oBl",
        "colab_type": "code",
        "colab": {
          "base_uri": "https://localhost:8080/",
          "height": 70
        },
        "outputId": "9e73159a-215d-4fc2-f885-110241069eac"
      },
      "source": [
        "import keras\n",
        "(x_train, y_train), (x_test, y_test) = keras.datasets.mnist.load_data()"
      ],
      "execution_count": null,
      "outputs": [
        {
          "output_type": "stream",
          "text": [
            "Using TensorFlow backend.\n"
          ],
          "name": "stderr"
        },
        {
          "output_type": "stream",
          "text": [
            "Downloading data from https://s3.amazonaws.com/img-datasets/mnist.npz\n",
            "11493376/11490434 [==============================] - 2s 0us/step\n"
          ],
          "name": "stdout"
        }
      ]
    },
    {
      "cell_type": "code",
      "metadata": {
        "id": "RIeXpu6A6nPK",
        "colab_type": "code",
        "colab": {
          "base_uri": "https://localhost:8080/",
          "height": 34
        },
        "outputId": "5356fc3c-d479-49d9-de9c-979b88834925"
      },
      "source": [
        "x_test.ndim"
      ],
      "execution_count": null,
      "outputs": [
        {
          "output_type": "execute_result",
          "data": {
            "text/plain": [
              "3"
            ]
          },
          "metadata": {
            "tags": []
          },
          "execution_count": 3
        }
      ]
    },
    {
      "cell_type": "markdown",
      "metadata": {
        "id": "bhAm8KaIccZE",
        "colab_type": "text"
      },
      "source": [
        "***We need to normalize the train and test data. The goal of normalization is to change the values of numeric columns in the dataset to a common scale, without distorting differences in the ranges of values.***"
      ]
    },
    {
      "cell_type": "code",
      "metadata": {
        "id": "2BE6vU6a61Wg",
        "colab_type": "code",
        "colab": {}
      },
      "source": [
        "X_train, X_test = x_train/255.0, x_test/255.0"
      ],
      "execution_count": null,
      "outputs": []
    },
    {
      "cell_type": "markdown",
      "metadata": {
        "id": "NYGSYKTBciUF",
        "colab_type": "text"
      },
      "source": [
        "***Now let's perform one-hot encoding on the train and test labels.***"
      ]
    },
    {
      "cell_type": "code",
      "metadata": {
        "id": "JA_6ruN47iEH",
        "colab_type": "code",
        "colab": {}
      },
      "source": [
        "from sklearn.preprocessing import OneHotEncoder\n",
        "ohe = OneHotEncoder(sparse=False)\n",
        "train_encoded = y_train.reshape(-1,1)\n",
        "Y_train = ohe.fit_transform(train_encoded)\n",
        "\n",
        "test_encoded = y_test.reshape(-1,1)\n",
        "Y_test = ohe.fit_transform(test_encoded)"
      ],
      "execution_count": null,
      "outputs": []
    },
    {
      "cell_type": "code",
      "metadata": {
        "id": "hpEm0IKJ_9rJ",
        "colab_type": "code",
        "colab": {
          "base_uri": "https://localhost:8080/",
          "height": 34
        },
        "outputId": "530bc250-be78-4f2c-fd1c-3e965c4380e2"
      },
      "source": [
        "Y_train.shape"
      ],
      "execution_count": null,
      "outputs": [
        {
          "output_type": "execute_result",
          "data": {
            "text/plain": [
              "(60000, 10)"
            ]
          },
          "metadata": {
            "tags": []
          },
          "execution_count": 6
        }
      ]
    },
    {
      "cell_type": "code",
      "metadata": {
        "id": "pOC87IUC4pQw",
        "colab_type": "code",
        "colab": {
          "base_uri": "https://localhost:8080/",
          "height": 443
        },
        "outputId": "b98ded70-68b7-408b-9879-b5246422df86"
      },
      "source": [
        "model = Sequential()\n",
        "\n",
        "model.add(CuDNNLSTM(64, input_shape = X_train.shape[1:],return_sequences=True))\n",
        "model.add(Activation(\"relu\"))\n",
        "model.add(Dropout(0.2))\n",
        "model.add(CuDNNLSTM(128))\n",
        "model.add(Activation(\"relu\"))\n",
        "model.add(Dropout(0.4))\n",
        "model.add(Dense(64, activation='relu'))\n",
        "model.add(Dense(10,activation='softmax'))\n",
        "model.summary()\n",
        "\n"
      ],
      "execution_count": null,
      "outputs": [
        {
          "output_type": "stream",
          "text": [
            "Model: \"sequential\"\n",
            "_________________________________________________________________\n",
            "Layer (type)                 Output Shape              Param #   \n",
            "=================================================================\n",
            "cu_dnnlstm (CuDNNLSTM)       (None, 28, 64)            24064     \n",
            "_________________________________________________________________\n",
            "activation (Activation)      (None, 28, 64)            0         \n",
            "_________________________________________________________________\n",
            "dropout (Dropout)            (None, 28, 64)            0         \n",
            "_________________________________________________________________\n",
            "cu_dnnlstm_1 (CuDNNLSTM)     (None, 128)               99328     \n",
            "_________________________________________________________________\n",
            "activation_1 (Activation)    (None, 128)               0         \n",
            "_________________________________________________________________\n",
            "dropout_1 (Dropout)          (None, 128)               0         \n",
            "_________________________________________________________________\n",
            "dense (Dense)                (None, 64)                8256      \n",
            "_________________________________________________________________\n",
            "dense_1 (Dense)              (None, 10)                650       \n",
            "=================================================================\n",
            "Total params: 132,298\n",
            "Trainable params: 132,298\n",
            "Non-trainable params: 0\n",
            "_________________________________________________________________\n"
          ],
          "name": "stdout"
        }
      ]
    },
    {
      "cell_type": "code",
      "metadata": {
        "id": "6cXmze9PRTED",
        "colab_type": "code",
        "colab": {
          "base_uri": "https://localhost:8080/",
          "height": 230
        },
        "outputId": "6f269cea-5c12-4d77-a180-17ec1a75471b"
      },
      "source": [
        "opt = tensorflow.keras.optimizers.Adam(learning_rate=0.001,decay=1e-5)\n",
        "\n",
        "model.compile(optimizer=opt, loss='categorical_crossentropy', metrics=['accuracy'])\n",
        "\n",
        "model.fit(X_train, Y_train, batch_size=32, epochs=5, validation_data=(X_test, Y_test))\n",
        "\n",
        "test_loss, test_acc = model.evaluate(X_test, Y_test)\n",
        "print(\"Test Loss: {0} - Test Acc: {1}\".format(test_loss, test_acc))"
      ],
      "execution_count": null,
      "outputs": [
        {
          "output_type": "stream",
          "text": [
            "Epoch 1/5\n",
            "1875/1875 [==============================] - 39s 21ms/step - loss: 0.0584 - accuracy: 0.9832 - val_loss: 0.0524 - val_accuracy: 0.9835\n",
            "Epoch 2/5\n",
            "1875/1875 [==============================] - 39s 21ms/step - loss: 0.0506 - accuracy: 0.9856 - val_loss: 0.0467 - val_accuracy: 0.9864\n",
            "Epoch 3/5\n",
            "1875/1875 [==============================] - 39s 21ms/step - loss: 0.0448 - accuracy: 0.9872 - val_loss: 0.0431 - val_accuracy: 0.9877\n",
            "Epoch 4/5\n",
            "1875/1875 [==============================] - 39s 21ms/step - loss: 0.0382 - accuracy: 0.9889 - val_loss: 0.0487 - val_accuracy: 0.9854\n",
            "Epoch 5/5\n",
            "1875/1875 [==============================] - 39s 21ms/step - loss: 0.0358 - accuracy: 0.9900 - val_loss: 0.0456 - val_accuracy: 0.9877\n",
            "313/313 [==============================] - 2s 8ms/step - loss: 0.0456 - accuracy: 0.9877\n",
            "Test Loss: 0.04558902233839035 - Test Acc: 0.9876999855041504\n"
          ],
          "name": "stdout"
        }
      ]
    }
  ]
}