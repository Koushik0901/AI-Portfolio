{
  "nbformat": 4,
  "nbformat_minor": 0,
  "metadata": {
    "kernelspec": {
      "display_name": "Python 3",
      "language": "python",
      "name": "python3"
    },
    "language_info": {
      "codemirror_mode": {
        "name": "ipython",
        "version": 3
      },
      "file_extension": ".py",
      "mimetype": "text/x-python",
      "name": "python",
      "nbconvert_exporter": "python",
      "pygments_lexer": "ipython3",
      "version": "3.6.8"
    },
    "colab": {
      "name": "ML Algorithms on MNIST.ipynb",
      "provenance": []
    }
  },
  "cells": [
    {
      "cell_type": "code",
      "metadata": {
        "id": "KZoj29pT-lpN"
      },
      "source": [
        "import struct\n",
        "import numpy as np\n",
        "import matplotlib.pyplot as plt\n",
        "from sklearn import svm, metrics\n",
        "from sklearn.metrics import  recall_score\n",
        "from sklearn.metrics import precision_score\n",
        "from sklearn.metrics import accuracy_score\n",
        "import pandas as pd\n",
        "import tensorflow as tf\n",
        "%matplotlib inline"
      ],
      "execution_count": null,
      "outputs": []
    },
    {
      "cell_type": "code",
      "metadata": {
        "id": "VWBR7ZPo-lpO"
      },
      "source": [
        "def read_idx(filename):\n",
        "    with open(filename, 'rb') as f:\n",
        "    #this opens the file for reading in binary format\n",
        "        zero, data_type, dims = struct.unpack('>HBB', f.read(4))\n",
        "        #The >HBB format specifier tells struct to expect 3 values in little endian format\n",
        "        shape = tuple(struct.unpack('>I', f.read(4))[0] for d in range(dims))\n",
        "        return np.fromstring(f.read(), dtype=np.uint8).reshape(shape)\n",
        "    #this is a function used to convert the data in these binary files into numpy array"
      ],
      "execution_count": null,
      "outputs": []
    },
    {
      "cell_type": "code",
      "metadata": {
        "scrolled": true,
        "id": "Zsn2WRWN-lpO",
        "outputId": "016bd06f-6a65-49de-cdd0-d05f63113ea2"
      },
      "source": [
        "raw_train = read_idx(\"/home/koushik/Downloads/train-images-idx3-ubyte\")\n",
        "train_data = np.reshape(raw_train, (60000,28*28))\n",
        "#it turns a 2D image into 1 long 28x28 vector as we need to feed the information as high dimensional vector\n",
        "train_label = read_idx(\"/home/koushik/Downloads/train-labels-idx1-ubyte\")\n",
        "\n",
        "raw_test = read_idx(\"/home/koushik/Downloads/t10k-images-idx3-ubyte\")\n",
        "test_data = np.reshape(raw_test, (10000,28*28))\n",
        "test_labels = read_idx(\"/home/koushik/Downloads/t10k-labels-idx1-ubyte\")\n",
        "#this block of code is to flatten a 28x28 image"
      ],
      "execution_count": null,
      "outputs": [
        {
          "output_type": "stream",
          "text": [
            "/home/koushik/anaconda3/envs/test/lib/python3.6/site-packages/ipykernel_launcher.py:7: DeprecationWarning: The binary mode of fromstring is deprecated, as it behaves surprisingly on unicode inputs. Use frombuffer instead\n",
            "  import sys\n"
          ],
          "name": "stderr"
        }
      ]
    },
    {
      "cell_type": "code",
      "metadata": {
        "id": "sRr3_ZRN-lpP",
        "outputId": "6a5317c1-ea3d-4227-beb0-910700e19e6f"
      },
      "source": [
        "def result(x,y,z):\n",
        "    global k\n",
        "    k = x.fit(y,z)\n",
        "for i in range(5):\n",
        "    plt.figure(figsize = (2,10))\n",
        "    img = train_data[i].reshape((28,28))\n",
        "    img1 = test_data[i].reshape((28,28))\n",
        "    plt.imshow(img, cmap=\"magma\")\n",
        "    plt.show()\n",
        "    plt.imshow(img1, cmap=\"plasma\")\n",
        "    plt.show()"
      ],
      "execution_count": null,
      "outputs": [
        {
          "output_type": "display_data",
          "data": {
            "image/png": "[encoded data removed]",
            "text/plain": [
              "<Figure size 144x720 with 1 Axes>"
            ]
          },
          "metadata": {
            "tags": [],
            "needs_background": "light"
          }
        },
        {
          "output_type": "display_data",
          "data": {
            "image/png": "[encoded data removed]",
            "text/plain": [
              "<Figure size 432x288 with 1 Axes>"
            ]
          },
          "metadata": {
            "tags": [],
            "needs_background": "light"
          }
        },
        {
          "output_type": "display_data",
          "data": {
            "image/png": "[encoded data removed]",
            "text/plain": [
              "<Figure size 144x720 with 1 Axes>"
            ]
          },
          "metadata": {
            "tags": [],
            "needs_background": "light"
          }
        },
        {
          "output_type": "display_data",
          "data": {
            "image/png": "[encoded data removed]",
            "text/plain": [
              "<Figure size 432x288 with 1 Axes>"
            ]
          },
          "metadata": {
            "tags": [],
            "needs_background": "light"
          }
        },
        {
          "output_type": "display_data",
          "data": {
            "image/png": "[encoded data removed]",
            "text/plain": [
              "<Figure size 144x720 with 1 Axes>"
            ]
          },
          "metadata": {
            "tags": [],
            "needs_background": "light"
          }
        },
        {
          "output_type": "display_data",
          "data": {
            "image/png": "[encoded data removed]",
            "text/plain": [
              "<Figure size 432x288 with 1 Axes>"
            ]
          },
          "metadata": {
            "tags": [],
            "needs_background": "light"
          }
        },
        {
          "output_type": "display_data",
          "data": {
            "image/png": "[encoded data removed]",
            "text/plain": [
              "<Figure size 144x720 with 1 Axes>"
            ]
          },
          "metadata": {
            "tags": [],
            "needs_background": "light"
          }
        },
        {
          "output_type": "display_data",
          "data": {
            "image/png": "[encoded data removed]",
            "text/plain": [
              "<Figure size 432x288 with 1 Axes>"
            ]
          },
          "metadata": {
            "tags": [],
            "needs_background": "light"
          }
        },
        {
          "output_type": "display_data",
          "data": {
            "image/png": "[encoded data removed]",
            "text/plain": [
              "<Figure size 144x720 with 1 Axes>"
            ]
          },
          "metadata": {
            "tags": [],
            "needs_background": "light"
          }
        },
        {
          "output_type": "display_data",
          "data": {
            "image/png": "[encoded data removed]",
            "text/plain": [
              "<Figure size 432x288 with 1 Axes>"
            ]
          },
          "metadata": {
            "tags": [],
            "needs_background": "light"
          }
        }
      ]
    },
    {
      "cell_type": "code",
      "metadata": {
        "id": "OX2KbTjd-lpQ",
        "outputId": "d4ece908-f729-48d4-bdcd-b7c6a99098fd"
      },
      "source": [
        "train_data.shape"
      ],
      "execution_count": null,
      "outputs": [
        {
          "output_type": "execute_result",
          "data": {
            "text/plain": [
              "(60000, 784)"
            ]
          },
          "metadata": {
            "tags": []
          },
          "execution_count": 8
        }
      ]
    },
    {
      "cell_type": "markdown",
      "metadata": {
        "id": "Uvlo7DfK-lpC"
      },
      "source": [
        "# **Using SVM**\n"
      ]
    },
    {
      "cell_type": "code",
      "metadata": {
        "id": "worbQ2Y2-lpQ"
      },
      "source": [
        "#training data\n",
        "idx = (train_label == 2) | (train_label == 3) | (train_label == 8)\n",
        "X = train_data[idx]/255.0\n",
        "Y = train_label[idx]\n",
        "result(svm.SVC(C=5, gamma=0.05), X, Y)\n",
        "#testing data\n",
        "idx = (test_labels == 2) | (test_labels == 3) | (test_labels == 8)\n",
        "x_test = test_data[idx]/255.0\n",
        "y_test = test_labels[idx]\n",
        "y_pred = k.predict(x_test)"
      ],
      "execution_count": null,
      "outputs": []
    },
    {
      "cell_type": "code",
      "metadata": {
        "id": "FFd8uG67-lpR",
        "outputId": "a98d3a2a-d4c2-42e1-bfb6-5eeefad28404"
      },
      "source": [
        "pd.crosstab(y_test, y_pred, rownames = [\"actual label\"], colnames = [\"predicted label\"], normalize = False)"
      ],
      "execution_count": null,
      "outputs": [
        {
          "output_type": "execute_result",
          "data": {
            "text/html": [
              "<div>\n",
              "<style scoped>\n",
              "    .dataframe tbody tr th:only-of-type {\n",
              "        vertical-align: middle;\n",
              "    }\n",
              "\n",
              "    .dataframe tbody tr th {\n",
              "        vertical-align: top;\n",
              "    }\n",
              "\n",
              "    .dataframe thead th {\n",
              "        text-align: right;\n",
              "    }\n",
              "</style>\n",
              "<table border=\"1\" class=\"dataframe\">\n",
              "  <thead>\n",
              "    <tr style=\"text-align: right;\">\n",
              "      <th>predicted label</th>\n",
              "      <th>2</th>\n",
              "      <th>3</th>\n",
              "      <th>8</th>\n",
              "    </tr>\n",
              "    <tr>\n",
              "      <th>actual label</th>\n",
              "      <th></th>\n",
              "      <th></th>\n",
              "      <th></th>\n",
              "    </tr>\n",
              "  </thead>\n",
              "  <tbody>\n",
              "    <tr>\n",
              "      <th>2</th>\n",
              "      <td>1024</td>\n",
              "      <td>1</td>\n",
              "      <td>7</td>\n",
              "    </tr>\n",
              "    <tr>\n",
              "      <th>3</th>\n",
              "      <td>3</td>\n",
              "      <td>1001</td>\n",
              "      <td>6</td>\n",
              "    </tr>\n",
              "    <tr>\n",
              "      <th>8</th>\n",
              "      <td>1</td>\n",
              "      <td>3</td>\n",
              "      <td>970</td>\n",
              "    </tr>\n",
              "  </tbody>\n",
              "</table>\n",
              "</div>"
            ],
            "text/plain": [
              "predicted label     2     3    8\n",
              "actual label                    \n",
              "2                1024     1    7\n",
              "3                   3  1001    6\n",
              "8                   1     3  970"
            ]
          },
          "metadata": {
            "tags": []
          },
          "execution_count": 10
        }
      ]
    },
    {
      "cell_type": "code",
      "metadata": {
        "id": "UriGJhNg-lpR",
        "outputId": "0c48e720-569e-40eb-a675-6be62c545079"
      },
      "source": [
        "precision = precision_score(y_test, y_pred, average ='micro')\n",
        "recall = recall_score(y_test, y_pred, average ='micro')\n",
        "accuracy = accuracy_score(y_test, y_pred)\n",
        "print(precision,recall,accuracy)\n",
        "#precision is used to find out of the tp predicted by the model what is the % of the actual +ve result\n",
        "#lower the false +ve higher the precision\n",
        "#lower the false -ve higher the recall"
      ],
      "execution_count": null,
      "outputs": [
        {
          "output_type": "stream",
          "text": [
            "0.9930371352785146 0.9930371352785146 0.9930371352785146\n"
          ],
          "name": "stdout"
        }
      ]
    },
    {
      "cell_type": "code",
      "metadata": {
        "id": "h3HlGGF_-lpS",
        "outputId": "9fc6ea00-69ad-4cc7-a78f-5f6c2f9da354"
      },
      "source": [
        "F1 = 2 * (precision * recall) / (precision + recall)\n",
        "print(F1)\n",
        "#it is the harmonic mean of pecision and recall"
      ],
      "execution_count": null,
      "outputs": [
        {
          "output_type": "stream",
          "text": [
            "0.9930371352785146\n"
          ],
          "name": "stdout"
        }
      ]
    },
    {
      "cell_type": "code",
      "metadata": {
        "id": "CGmhPYtC-lpS",
        "outputId": "1913ba2b-2d32-4b1f-9fa3-ab34b80f0630"
      },
      "source": [
        "idx  = np.where((y_pred == 2) & (y_test == 8))[0]\n",
        "fig = plt.figure(figsize = (3,10))\n",
        "for i in range(len(idx)):\n",
        "    img = x_test[idx[i]].reshape((28,28))\n",
        "    plt.imshow(img, cmap=\"magma\")\n",
        "    plt.show()"
      ],
      "execution_count": null,
      "outputs": [
        {
          "output_type": "display_data",
          "data": {
            "image/png": "[encoded data removed]",
            "text/plain": [
              "<Figure size 216x720 with 1 Axes>"
            ]
          },
          "metadata": {
            "tags": [],
            "needs_background": "light"
          }
        }
      ]
    },
    {
      "cell_type": "code",
      "metadata": {
        "id": "_VxaXjLL-lpS"
      },
      "source": [
        "idx  = np.where((y_pred == 8) & (y_test == 8))[0]\n",
        "fig = plt.figure(figsize = (3,10))\n",
        "for i in range(len(idx)):\n",
        "    img = x_test[idx[i]].reshape((28,28))\n",
        "    plt.imshow(img, cmap=\"Greys\")\n",
        "    plt.show()"
      ],
      "execution_count": null,
      "outputs": []
    },
    {
      "cell_type": "markdown",
      "metadata": {
        "id": "AAoAWPgJ-lpU"
      },
      "source": [
        "# **Using KNN**\n"
      ]
    },
    {
      "cell_type": "code",
      "metadata": {
        "id": "NSz4Jd9K-lpU"
      },
      "source": [
        "#training data\n",
        "from sklearn import neighbors\n",
        "idx = (train_label == 2) | (train_label == 3) | (train_label == 8)\n",
        "Q = train_data[idx]/255.0\n",
        "W = train_label[idx]\n",
        "result(neighbors.KNeighborsClassifier(n_neighbors = 5), Q, W)\n",
        "#testing data\n",
        "idx = (test_labels == 2) | (test_labels == 3) | (test_labels == 8)\n",
        "Q_test = test_data[idx]/255.0\n",
        "W_test = test_labels[idx]\n",
        "W_pred = k.predict(Q_test)"
      ],
      "execution_count": null,
      "outputs": []
    },
    {
      "cell_type": "code",
      "metadata": {
        "id": "F8S_1xgm-lpU",
        "outputId": "b123fcbe-fab7-43ef-b360-ca129986a5e0"
      },
      "source": [
        "#confusion matrix\n",
        "pd.crosstab(W_test, W_pred, rownames = [\"actual label\"], colnames = [\"predicted label\"], normalize = False)"
      ],
      "execution_count": null,
      "outputs": [
        {
          "output_type": "execute_result",
          "data": {
            "text/html": [
              "<div>\n",
              "<style scoped>\n",
              "    .dataframe tbody tr th:only-of-type {\n",
              "        vertical-align: middle;\n",
              "    }\n",
              "\n",
              "    .dataframe tbody tr th {\n",
              "        vertical-align: top;\n",
              "    }\n",
              "\n",
              "    .dataframe thead th {\n",
              "        text-align: right;\n",
              "    }\n",
              "</style>\n",
              "<table border=\"1\" class=\"dataframe\">\n",
              "  <thead>\n",
              "    <tr style=\"text-align: right;\">\n",
              "      <th>predicted label</th>\n",
              "      <th>2</th>\n",
              "      <th>3</th>\n",
              "      <th>8</th>\n",
              "    </tr>\n",
              "    <tr>\n",
              "      <th>actual label</th>\n",
              "      <th></th>\n",
              "      <th></th>\n",
              "      <th></th>\n",
              "    </tr>\n",
              "  </thead>\n",
              "  <tbody>\n",
              "    <tr>\n",
              "      <th>2</th>\n",
              "      <td>1023</td>\n",
              "      <td>3</td>\n",
              "      <td>6</td>\n",
              "    </tr>\n",
              "    <tr>\n",
              "      <th>3</th>\n",
              "      <td>3</td>\n",
              "      <td>1001</td>\n",
              "      <td>6</td>\n",
              "    </tr>\n",
              "    <tr>\n",
              "      <th>8</th>\n",
              "      <td>5</td>\n",
              "      <td>17</td>\n",
              "      <td>952</td>\n",
              "    </tr>\n",
              "  </tbody>\n",
              "</table>\n",
              "</div>"
            ],
            "text/plain": [
              "predicted label     2     3    8\n",
              "actual label                    \n",
              "2                1023     3    6\n",
              "3                   3  1001    6\n",
              "8                   5    17  952"
            ]
          },
          "metadata": {
            "tags": []
          },
          "execution_count": 16
        }
      ]
    },
    {
      "cell_type": "code",
      "metadata": {
        "id": "j8k5e9Pl-lpV",
        "outputId": "97793755-5b94-434e-f7a1-4a4654bc6274"
      },
      "source": [
        "precision = precision_score(W_test, W_pred, average ='micro')\n",
        "recall = recall_score(W_test, W_pred, average ='micro')\n",
        "accuracy = (1023+1001+952)/3016\n",
        "print(precision,recall,accuracy)"
      ],
      "execution_count": null,
      "outputs": [
        {
          "output_type": "stream",
          "text": [
            "0.986737400530504 0.986737400530504 0.986737400530504\n"
          ],
          "name": "stdout"
        }
      ]
    },
    {
      "cell_type": "code",
      "metadata": {
        "id": "WI2teb8T-lpV",
        "outputId": "032f4a50-727b-42e0-9f93-9537ef3fbc1d"
      },
      "source": [
        "F1 = 2 * (precision * recall) / (precision + recall)\n",
        "print(F1)"
      ],
      "execution_count": null,
      "outputs": [
        {
          "output_type": "stream",
          "text": [
            "0.986737400530504\n"
          ],
          "name": "stdout"
        }
      ]
    },
    {
      "cell_type": "code",
      "metadata": {
        "id": "Tatk06Oq-lpV"
      },
      "source": [
        "#display images that were predicted to be 2 but the ground truth was 8.\n",
        "idx  = np.where((W_pred == 2) & (W_test == 8))[0]\n",
        "fig = plt.figure(figsize = (3,10))\n",
        "for i in range(len(idx)):\n",
        "    img = Q_test[idx[i]].reshape((28,28))\n",
        "    plt.imshow(img, cmap=\"Greys\")\n",
        "    plt.show()"
      ],
      "execution_count": null,
      "outputs": []
    },
    {
      "cell_type": "code",
      "metadata": {
        "id": "up2xts6V-lpW"
      },
      "source": [
        "#display images that were predicted to be 2 and ground truth is also 2.\n",
        "idx  = np.where((W_pred == 2) & (W_test == 2))[0]\n",
        "fig = plt.figure(figsize = (3,10))\n",
        "for i in range(len(idx)):\n",
        "    img = Q_test[idx[i]].reshape((28,28))\n",
        "    plt.imshow(img, cmap=\"Greys\")\n",
        "    plt.show()"
      ],
      "execution_count": null,
      "outputs": []
    },
    {
      "cell_type": "markdown",
      "metadata": {
        "id": "RXCHJsBr-lpY"
      },
      "source": [
        "# **Using Logistic Regression**"
      ]
    },
    {
      "cell_type": "code",
      "metadata": {
        "id": "KVrzXJoC-lpY"
      },
      "source": [
        "from sklearn.linear_model import LogisticRegression"
      ],
      "execution_count": null,
      "outputs": []
    },
    {
      "cell_type": "code",
      "metadata": {
        "id": "cI28btA1-lpZ",
        "outputId": "3e753689-66cf-4c40-9af6-448f7186485f"
      },
      "source": [
        "#training data\n",
        "idx = (train_label == 2) | (train_label == 3) | (train_label == 8)\n",
        "A = train_data[idx]\n",
        "B = train_label[idx] \n",
        "result(LogisticRegression(solver='lbfgs', max_iter=2000, multi_class='auto'), A, B)\n",
        "#testing data\n",
        "idx = (test_labels == 2) | (test_labels == 3) | (test_labels == 8)\n",
        "A_test = test_data[idx]\n",
        "B_test = test_labels[idx]\n",
        "B_pred = k.predict(A_test)"
      ],
      "execution_count": null,
      "outputs": [
        {
          "output_type": "stream",
          "text": [
            "/home/koushik/anaconda3/envs/test/lib/python3.6/site-packages/sklearn/linear_model/logistic.py:947: ConvergenceWarning: lbfgs failed to converge. Increase the number of iterations.\n",
            "  \"of iterations.\", ConvergenceWarning)\n"
          ],
          "name": "stderr"
        }
      ]
    },
    {
      "cell_type": "code",
      "metadata": {
        "id": "Yw2zgFmp-lpZ",
        "outputId": "fe12075e-83e7-4c7e-9978-9060adb6c7a1"
      },
      "source": [
        "#confusion matrix\n",
        "pd.crosstab(B_test, B_pred, rownames = [\"actual label\"], colnames = [\"predicted label\"], normalize = False)"
      ],
      "execution_count": null,
      "outputs": [
        {
          "output_type": "execute_result",
          "data": {
            "text/html": [
              "<div>\n",
              "<style scoped>\n",
              "    .dataframe tbody tr th:only-of-type {\n",
              "        vertical-align: middle;\n",
              "    }\n",
              "\n",
              "    .dataframe tbody tr th {\n",
              "        vertical-align: top;\n",
              "    }\n",
              "\n",
              "    .dataframe thead th {\n",
              "        text-align: right;\n",
              "    }\n",
              "</style>\n",
              "<table border=\"1\" class=\"dataframe\">\n",
              "  <thead>\n",
              "    <tr style=\"text-align: right;\">\n",
              "      <th>predicted label</th>\n",
              "      <th>2</th>\n",
              "      <th>3</th>\n",
              "      <th>8</th>\n",
              "    </tr>\n",
              "    <tr>\n",
              "      <th>actual label</th>\n",
              "      <th></th>\n",
              "      <th></th>\n",
              "      <th></th>\n",
              "    </tr>\n",
              "  </thead>\n",
              "  <tbody>\n",
              "    <tr>\n",
              "      <th>2</th>\n",
              "      <td>968</td>\n",
              "      <td>25</td>\n",
              "      <td>39</td>\n",
              "    </tr>\n",
              "    <tr>\n",
              "      <th>3</th>\n",
              "      <td>21</td>\n",
              "      <td>952</td>\n",
              "      <td>37</td>\n",
              "    </tr>\n",
              "    <tr>\n",
              "      <th>8</th>\n",
              "      <td>11</td>\n",
              "      <td>29</td>\n",
              "      <td>934</td>\n",
              "    </tr>\n",
              "  </tbody>\n",
              "</table>\n",
              "</div>"
            ],
            "text/plain": [
              "predicted label    2    3    8\n",
              "actual label                  \n",
              "2                968   25   39\n",
              "3                 21  952   37\n",
              "8                 11   29  934"
            ]
          },
          "metadata": {
            "tags": []
          },
          "execution_count": 23
        }
      ]
    },
    {
      "cell_type": "code",
      "metadata": {
        "id": "8cTrxQPK-lpZ",
        "outputId": "adcc6dba-aa30-43dd-e670-a7464a32dc1c"
      },
      "source": [
        "precision = precision_score(B_test, B_pred, average ='micro')\n",
        "recall = recall_score(B_test, B_pred, average ='micro')\n",
        "accuracy = (968+952+934)/3016\n",
        "print(precision,recall,accuracy)"
      ],
      "execution_count": null,
      "outputs": [
        {
          "output_type": "stream",
          "text": [
            "0.9462864721485411 0.9462864721485411 0.9462864721485411\n"
          ],
          "name": "stdout"
        }
      ]
    },
    {
      "cell_type": "code",
      "metadata": {
        "id": "8weTCA9B-lpZ",
        "outputId": "b9c87b8d-4ae0-4aa3-b751-2b72509ddd93"
      },
      "source": [
        "F1 = 2 * (precision * recall) / (precision + recall)\n",
        "print(F1)"
      ],
      "execution_count": null,
      "outputs": [
        {
          "output_type": "stream",
          "text": [
            "0.9462864721485411\n"
          ],
          "name": "stdout"
        }
      ]
    },
    {
      "cell_type": "code",
      "metadata": {
        "id": "t2qmEfP6-lpa"
      },
      "source": [
        "#display images that were predicted to be 2 but the ground truth was 8.\n",
        "idx  = np.where((B_pred == 2) & (B_test == 8))[0]\n",
        "fig = plt.figure(figsize = (3,10))\n",
        "for i in range(len(idx)):\n",
        "    img = A_test[idx[i]].reshape((28,28))\n",
        "    plt.imshow(img, cmap=\"copper\")\n",
        "    plt.show()"
      ],
      "execution_count": null,
      "outputs": []
    },
    {
      "cell_type": "code",
      "metadata": {
        "id": "Duliq6CH-lpa"
      },
      "source": [
        "#display images that were predicted to be 3 and the ground truth was also 3.\n",
        "idx  = np.where((B_pred == 3) & (B_test == 3))[0]\n",
        "fig = plt.figure(figsize = (3,10))\n",
        "for i in range(len(idx)):\n",
        "    img = A_test[idx[i]].reshape((28,28))\n",
        "    plt.imshow(img, cmap=\"afmhot\")\n",
        "    plt.show()"
      ],
      "execution_count": null,
      "outputs": []
    },
    {
      "cell_type": "markdown",
      "metadata": {
        "id": "5z-4tvjU-lpb"
      },
      "source": [
        "# **Using Random Forest**"
      ]
    },
    {
      "cell_type": "code",
      "metadata": {
        "id": "w1jqcTTT-lpb"
      },
      "source": [
        "from sklearn.ensemble import RandomForestClassifier"
      ],
      "execution_count": null,
      "outputs": []
    },
    {
      "cell_type": "code",
      "metadata": {
        "id": "8TdHisJ5-lpb",
        "outputId": "009ee938-defc-44c5-f328-b1440cbc9433"
      },
      "source": [
        "#training data\n",
        "idx = (train_label == 2) | (train_label == 3) | (train_label == 8)\n",
        "P = train_data[idx]\n",
        "O = train_label[idx] \n",
        "result(RandomForestClassifier(), P, O)\n",
        "#testing data\n",
        "idx = (test_labels == 2) | (test_labels == 3) | (test_labels == 8)\n",
        "P_test = test_data[idx]\n",
        "O_test = test_labels[idx]\n",
        "O_pred = k.predict(P_test)"
      ],
      "execution_count": null,
      "outputs": [
        {
          "output_type": "stream",
          "text": [
            "/home/koushik/anaconda3/envs/test/lib/python3.6/site-packages/sklearn/ensemble/forest.py:245: FutureWarning: The default value of n_estimators will change from 10 in version 0.20 to 100 in 0.22.\n",
            "  \"10 in version 0.20 to 100 in 0.22.\", FutureWarning)\n"
          ],
          "name": "stderr"
        }
      ]
    },
    {
      "cell_type": "code",
      "metadata": {
        "scrolled": true,
        "id": "Ins_b42r-lpc",
        "outputId": "0abbf97a-2102-468b-e377-2675265c8022"
      },
      "source": [
        "#confusion matrix\n",
        "pd.crosstab(O_test, O_pred, rownames = [\"actual label\"], colnames = [\"predicted label\"], normalize = False)"
      ],
      "execution_count": null,
      "outputs": [
        {
          "output_type": "execute_result",
          "data": {
            "text/html": [
              "<div>\n",
              "<style scoped>\n",
              "    .dataframe tbody tr th:only-of-type {\n",
              "        vertical-align: middle;\n",
              "    }\n",
              "\n",
              "    .dataframe tbody tr th {\n",
              "        vertical-align: top;\n",
              "    }\n",
              "\n",
              "    .dataframe thead th {\n",
              "        text-align: right;\n",
              "    }\n",
              "</style>\n",
              "<table border=\"1\" class=\"dataframe\">\n",
              "  <thead>\n",
              "    <tr style=\"text-align: right;\">\n",
              "      <th>predicted label</th>\n",
              "      <th>2</th>\n",
              "      <th>3</th>\n",
              "      <th>8</th>\n",
              "    </tr>\n",
              "    <tr>\n",
              "      <th>actual label</th>\n",
              "      <th></th>\n",
              "      <th></th>\n",
              "      <th></th>\n",
              "    </tr>\n",
              "  </thead>\n",
              "  <tbody>\n",
              "    <tr>\n",
              "      <th>2</th>\n",
              "      <td>1005</td>\n",
              "      <td>9</td>\n",
              "      <td>18</td>\n",
              "    </tr>\n",
              "    <tr>\n",
              "      <th>3</th>\n",
              "      <td>23</td>\n",
              "      <td>974</td>\n",
              "      <td>13</td>\n",
              "    </tr>\n",
              "    <tr>\n",
              "      <th>8</th>\n",
              "      <td>13</td>\n",
              "      <td>12</td>\n",
              "      <td>949</td>\n",
              "    </tr>\n",
              "  </tbody>\n",
              "</table>\n",
              "</div>"
            ],
            "text/plain": [
              "predicted label     2    3    8\n",
              "actual label                   \n",
              "2                1005    9   18\n",
              "3                  23  974   13\n",
              "8                  13   12  949"
            ]
          },
          "metadata": {
            "tags": []
          },
          "execution_count": 30
        }
      ]
    },
    {
      "cell_type": "code",
      "metadata": {
        "id": "gBP_Bg_a-lpc",
        "outputId": "c528b6d2-22dd-4b70-a261-ab877f772080"
      },
      "source": [
        "precision = precision_score(O_test, O_pred, average ='macro')\n",
        "recall = recall_score(O_test, O_pred, average ='micro')\n",
        "accuracy = (1008+971+942)/3016\n",
        "print(precision,recall,accuracy)"
      ],
      "execution_count": null,
      "outputs": [
        {
          "output_type": "stream",
          "text": [
            "0.9708932289119142 0.9708222811671088 0.968501326259947\n"
          ],
          "name": "stdout"
        }
      ]
    },
    {
      "cell_type": "code",
      "metadata": {
        "id": "CZsyVDrA-lpd",
        "outputId": "7ed2accc-cd24-473a-cd96-9b1b7bc38b24"
      },
      "source": [
        "F1 = 2 * (precision * recall) / (precision + recall)\n",
        "print(F1)"
      ],
      "execution_count": null,
      "outputs": [
        {
          "output_type": "stream",
          "text": [
            "0.9708577537433426\n"
          ],
          "name": "stdout"
        }
      ]
    },
    {
      "cell_type": "code",
      "metadata": {
        "id": "0YDqU6Yd-lpd"
      },
      "source": [
        "#display images that were predicted to be 3 and the ground truth was also 3.\n",
        "idx  = np.where((O_pred == 3) & (O_test == 3))[0]\n",
        "fig = plt.figure(figsize = (3,10))\n",
        "for i in range(len(idx)):\n",
        "    img = P_test[idx[i]].reshape((28,28))\n",
        "    plt.imshow(img, cmap=\"spring\")\n",
        "    plt.show()"
      ],
      "execution_count": null,
      "outputs": []
    },
    {
      "cell_type": "code",
      "metadata": {
        "id": "plRRrmaL-lpe"
      },
      "source": [
        "#display images that were predicted to be 2 but the ground truth was 3.\n",
        "idx  = np.where((O_pred == 2) & (O_test == 3))[0]\n",
        "fig = plt.figure(figsize = (3,10))\n",
        "for i in range(len(idx)):\n",
        "    img = P_test[idx[i]].reshape((28,28))\n",
        "    plt.imshow(img, cmap=\"winter\")\n",
        "    plt.show()"
      ],
      "execution_count": null,
      "outputs": []
    },
    {
      "cell_type": "code",
      "metadata": {
        "colab": {
          "base_uri": "https://localhost:8080/"
        },
        "id": "iTj8srhL-lpe",
        "outputId": "57158629-57b7-459b-e397-5b0680327bb1"
      },
      "source": [
        "thistuple = (0.9930371352785146, 0.986737400530504, 0.9462864721485411, 0.968501326259947)\n",
        "tuple1 = (\"SVM\",\"KNN\",\"Logistic regression\",\"random forest\")\n",
        "    \n",
        "for i in range(0,4):\n",
        "     print(\"the accuracy of\", tuple1[i],\"=\",thistuple[i])"
      ],
      "execution_count": 1,
      "outputs": [
        {
          "output_type": "stream",
          "text": [
            "the accuracy of SVM = 0.9930371352785146\n",
            "the accuracy of KNN = 0.986737400530504\n",
            "the accuracy of Logistic regression = 0.9462864721485411\n",
            "the accuracy of random forest = 0.968501326259947\n"
          ],
          "name": "stdout"
        }
      ]
    },
    {
      "cell_type": "markdown",
      "metadata": {
        "id": "NyFSck0h-lpf"
      },
      "source": [
        "<b>Thus SVM and KNN seems to outperform other algorithms on MNIST.</b>"
      ]
    }
  ]
}