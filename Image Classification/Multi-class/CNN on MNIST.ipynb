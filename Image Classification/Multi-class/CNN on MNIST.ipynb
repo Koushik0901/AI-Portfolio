{
  "nbformat": 4,
  "nbformat_minor": 0,
  "metadata": {
    "colab": {
      "name": "CNN on MNIST.ipynb",
      "provenance": [],
      "collapsed_sections": []
    },
    "kernelspec": {
      "name": "python3",
      "display_name": "Python 3"
    }
  },
  "cells": [
    {
      "cell_type": "code",
      "metadata": {
        "id": "4EhK0xqEIU_2",
        "colab_type": "code",
        "colab": {}
      },
      "source": [
        "import numpy as np\n",
        "import tensorflow as tf\n",
        "import tensorflow.keras.layers  as KL\n",
        "import tensorflow.keras.models  as KM"
      ],
      "execution_count": 1,
      "outputs": []
    },
    {
      "cell_type": "code",
      "metadata": {
        "id": "p9n_NO-ERHE4",
        "colab_type": "code",
        "colab": {
          "base_uri": "https://localhost:8080/",
          "height": 52
        },
        "outputId": "7d358c7a-7dc3-45f3-c58f-ca9a537b8b31"
      },
      "source": [
        "mnist = tf.keras.datasets.mnist\n",
        "(x_train, y_train), (x_test, y_test) = mnist.load_data()\n",
        "x_train, x_test = x_train/255.0, x_test/255.0\n",
        "#normalizing train and test data\n",
        "x_train, x_test = np.expand_dims(x_train, axis=-1), np.expand_dims(x_test, axis=-1)\n",
        "#reshaping the train and test data as cnn accepts only 4D array"
      ],
      "execution_count": 2,
      "outputs": [
        {
          "output_type": "stream",
          "text": [
            "Downloading data from https://storage.googleapis.com/tensorflow/tf-keras-datasets/mnist.npz\n",
            "11493376/11490434 [==============================] - 0s 0us/step\n"
          ],
          "name": "stdout"
        }
      ]
    },
    {
      "cell_type": "code",
      "metadata": {
        "id": "ZTmMuQMCRc90",
        "colab_type": "code",
        "colab": {}
      },
      "source": [
        "from sklearn.preprocessing import OneHotEncoder\n",
        "ohe = OneHotEncoder(sparse=False)\n",
        "train_encoded = y_train.reshape(-1,1)\n",
        "Y_train = ohe.fit_transform(train_encoded)\n",
        "\n",
        "test_encoded = y_test.reshape(-1,1)\n",
        "Y_test = ohe.fit_transform(test_encoded)"
      ],
      "execution_count": 3,
      "outputs": []
    },
    {
      "cell_type": "code",
      "metadata": {
        "id": "6goy8Pwab6YO",
        "colab_type": "code",
        "colab": {
          "base_uri": "https://localhost:8080/",
          "height": 34
        },
        "outputId": "3defbf90-cca0-47b3-da0e-b1e8adf4135a"
      },
      "source": [
        "x_train.dtype"
      ],
      "execution_count": 4,
      "outputs": [
        {
          "output_type": "execute_result",
          "data": {
            "text/plain": [
              "dtype('float64')"
            ]
          },
          "metadata": {
            "tags": []
          },
          "execution_count": 4
        }
      ]
    },
    {
      "cell_type": "code",
      "metadata": {
        "id": "8iru8Di5RH8E",
        "colab_type": "code",
        "colab": {
          "base_uri": "https://localhost:8080/",
          "height": 514
        },
        "outputId": "23765533-c6d6-496f-df81-2738ba51fb71"
      },
      "source": [
        "inputs = KL.Input(shape=(28, 28, 1))\n",
        "c = KL.Conv2D(32, (3, 3), padding=\"valid\", activation=tf.nn.relu)(inputs)\n",
        "# input vol = 28x28x1\n",
        "# filter = 32(3x3)\n",
        "# o/p vol = (w1-f+2p)/s+1\n",
        "# o/p vol = (28-3)/1+1=26\n",
        "# 32(3*3*1+1) = 320\n",
        "m = KL.MaxPool2D((2, 2), (2, 2))(c)\n",
        "\n",
        "# i/p vol = 26x26x32\n",
        "# o/p vol = (26-2)/2+1=13\n",
        "\n",
        "d = KL.Dropout(0.25)(m)\n",
        "#Dropout randomly turns off neurons so that the model finds different pathways everytime\n",
        "c = KL.Conv2D(64, (3, 3), padding=\"valid\", activation=tf.nn.relu)(d)\n",
        "# input vol = 13x13x32\n",
        "# filter = 64(3x3)\n",
        "# o/p vol = (13-3)/2+1=11x11x64\n",
        "#((m * n * d)+1)* k)\n",
        "#((3x3x32)+1x64)= 18496  \n",
        "m = KL.MaxPool2D((2, 2), (2, 2))(c)\n",
        "# input vol = 11x11x64\n",
        "# o/p vol = (11-3)/2+1=5*5*64\n",
        "c = KL.Conv2D(128, (3, 3), padding=\"valid\", activation=tf.nn.relu)(m)\n",
        "# input vol = 5x5x64\n",
        "# filter = 128(3x3)\n",
        "# o/p vol = (5-3)/1+1=3*3*128\n",
        "#((m * n * d)+1)* k)\n",
        "#((3x3x64)+1x128)=  73856   \n",
        "m = KL.MaxPool2D((2, 2), (2, 2))(c)\n",
        "f = KL.Flatten()(m)\n",
        "#it flattens the the feature map\n",
        "outputs = KL.Dense(10, activation=tf.nn.softmax)(f)\n",
        "#(10*no.of neurons in the prev layer)+1(bias)*10)= 1290\n",
        "\n",
        "model = KM.Model(inputs, outputs)\n",
        "model.summary()"
      ],
      "execution_count": 5,
      "outputs": [
        {
          "output_type": "stream",
          "text": [
            "Model: \"model\"\n",
            "_________________________________________________________________\n",
            "Layer (type)                 Output Shape              Param #   \n",
            "=================================================================\n",
            "input_1 (InputLayer)         [(None, 28, 28, 1)]       0         \n",
            "_________________________________________________________________\n",
            "conv2d (Conv2D)              (None, 26, 26, 32)        320       \n",
            "_________________________________________________________________\n",
            "max_pooling2d (MaxPooling2D) (None, 13, 13, 32)        0         \n",
            "_________________________________________________________________\n",
            "dropout (Dropout)            (None, 13, 13, 32)        0         \n",
            "_________________________________________________________________\n",
            "conv2d_1 (Conv2D)            (None, 11, 11, 64)        18496     \n",
            "_________________________________________________________________\n",
            "max_pooling2d_1 (MaxPooling2 (None, 5, 5, 64)          0         \n",
            "_________________________________________________________________\n",
            "conv2d_2 (Conv2D)            (None, 3, 3, 128)         73856     \n",
            "_________________________________________________________________\n",
            "max_pooling2d_2 (MaxPooling2 (None, 1, 1, 128)         0         \n",
            "_________________________________________________________________\n",
            "flatten (Flatten)            (None, 128)               0         \n",
            "_________________________________________________________________\n",
            "dense (Dense)                (None, 10)                1290      \n",
            "=================================================================\n",
            "Total params: 93,962\n",
            "Trainable params: 93,962\n",
            "Non-trainable params: 0\n",
            "_________________________________________________________________\n"
          ],
          "name": "stdout"
        }
      ]
    },
    {
      "cell_type": "code",
      "metadata": {
        "id": "ueS9Qli_RR6k",
        "colab_type": "code",
        "colab": {
          "base_uri": "https://localhost:8080/",
          "height": 158
        },
        "outputId": "1348917d-0110-46bb-ea3f-26420739cd76"
      },
      "source": [
        "import tensorflow.keras.optimizers \n",
        "import tensorflow.keras.losses\n",
        "opt = tensorflow.keras.optimizers.Adam(learning_rate=0.001,decay=1e-5)\n",
        "losses = tensorflow.keras.losses.categorical_crossentropy\n",
        "\n",
        "model.compile(optimizer = opt,\n",
        "              loss=losses, metrics = ['accuracy'])\n",
        "model.fit(x_train, Y_train, batch_size=64, epochs=3, validation_data=(x_test, Y_test))\n",
        "\n",
        "test_loss, test_acc = model.evaluate(x_test, Y_test)\n",
        "print(\"Test Loss: {0} - Test Acc: {1}\".format(test_loss, test_acc))"
      ],
      "execution_count": 7,
      "outputs": [
        {
          "output_type": "stream",
          "text": [
            "Epoch 1/3\n",
            "938/938 [==============================] - 55s 58ms/step - loss: 0.0561 - accuracy: 0.9824 - val_loss: 0.0542 - val_accuracy: 0.9829\n",
            "Epoch 2/3\n",
            "938/938 [==============================] - 55s 58ms/step - loss: 0.0433 - accuracy: 0.9862 - val_loss: 0.0480 - val_accuracy: 0.9846\n",
            "Epoch 3/3\n",
            "938/938 [==============================] - 55s 58ms/step - loss: 0.0368 - accuracy: 0.9883 - val_loss: 0.0480 - val_accuracy: 0.9853\n",
            "313/313 [==============================] - 3s 8ms/step - loss: 0.0480 - accuracy: 0.9853\n",
            "Test Loss: 0.048029039055109024 - Test Acc: 0.9853000044822693\n"
          ],
          "name": "stdout"
        }
      ]
    }
  ]
}
